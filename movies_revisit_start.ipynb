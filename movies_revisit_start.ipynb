{
 "cells": [
  {
   "cell_type": "code",
   "execution_count": null,
   "metadata": {},
   "outputs": [],
   "source": [
    "import pandas as pd"
   ]
  },
  {
   "cell_type": "code",
   "execution_count": null,
   "metadata": {},
   "outputs": [],
   "source": [
    "df = pd.read_csv('./movies_metadata.csv') \n",
    "df.shape"
   ]
  },
  {
   "cell_type": "code",
   "execution_count": null,
   "metadata": {},
   "outputs": [],
   "source": [
    "df.index"
   ]
  },
  {
   "cell_type": "code",
   "execution_count": null,
   "metadata": {},
   "outputs": [],
   "source": [
    "df.columns"
   ]
  },
  {
   "source": [
    "__Exercise 1:__ Row selection with loc and iloc. Do the following two lines of code produce the same result?\n",
    "\n",
    "    loc[1:50] \n",
    "    iloc[1:50] \n",
    "and \n",
    "\n",
    "    loc[:50, :5]\n",
    "    iloc[:50, :5]"
   ],
   "cell_type": "markdown",
   "metadata": {}
  },
  {
   "source": [
    "__Exercise 2:__ Create a data frame that contains the first 100 rows and first 3 columns of the original dataframe. Use at least two approaches. "
   ],
   "cell_type": "markdown",
   "metadata": {}
  },
  {
   "source": [
    "__Exercise 3:__ Create a data frame that doesn't contain the last four un-named columns from the original dataframe. Use at least two approaches with loc and iloc."
   ],
   "cell_type": "markdown",
   "metadata": {}
  },
  {
   "source": [
    "### Handling missing data\n",
    "\n",
    "Pandas uses two already-existing Python null values: the Python __None__ object, or the special floating- point __NaN__ value which is a special floating-point value recognized by all systems that use the standard IEEE floating-point representation. \n",
    "\n",
    "Pandas operations wtih NaN values: __isnull()__, __dropna()__, __notna()__, and __fillna()__"
   ],
   "cell_type": "markdown",
   "metadata": {}
  },
  {
   "cell_type": "code",
   "execution_count": null,
   "metadata": {},
   "outputs": [],
   "source": [
    "df.isnull()"
   ]
  },
  {
   "cell_type": "code",
   "execution_count": null,
   "metadata": {},
   "outputs": [],
   "source": [
    "df.isnull().sum()"
   ]
  },
  {
   "source": [
    "df.dropna().shape   #drop by rows by default with how='any' option; not in place"
   ],
   "cell_type": "code",
   "metadata": {},
   "execution_count": null,
   "outputs": []
  },
  {
   "source": [
    "__Exercise 4:__ Drop in place all the columns with all NaN values. "
   ],
   "cell_type": "markdown",
   "metadata": {}
  },
  {
   "cell_type": "markdown",
   "metadata": {},
   "source": [
    "Drop the columns with all NA. "
   ]
  },
  {
   "cell_type": "code",
   "execution_count": null,
   "metadata": {},
   "outputs": [],
   "source": [
    "df = df.dropna(axis=1, how='all')"
   ]
  },
  {
   "cell_type": "code",
   "execution_count": null,
   "metadata": {},
   "outputs": [],
   "source": [
    "titles = df.original_title\n",
    "type(titles)"
   ]
  },
  {
   "cell_type": "code",
   "execution_count": null,
   "metadata": {},
   "outputs": [],
   "source": [
    "titles.index"
   ]
  },
  {
   "cell_type": "code",
   "execution_count": null,
   "metadata": {},
   "outputs": [],
   "source": [
    "sorted_df = df.sort_values(by = 'title')\n",
    "sorted_df "
   ]
  },
  {
   "source": [
    "__Homework Exercise 1:__ What is the max budget of all movies?"
   ],
   "cell_type": "markdown",
   "metadata": {}
  },
  {
   "source": [
    "__Homework Exercise 2:__ How many movies have a budget over 100 million dollars? "
   ],
   "cell_type": "markdown",
   "metadata": {}
  },
  {
   "source": [
    "__Homework Exercise 3:__ How many movies have a budget over 100 million dollars and has a rating higher than 7.5?"
   ],
   "cell_type": "markdown",
   "metadata": {}
  },
  {
   "source": [
    "__Homework Exercise 4:__ What are the name and release date of the movie that has a rating higher than 9.9?"
   ],
   "cell_type": "markdown",
   "metadata": {}
  },
  {
   "source": [
    "### Vectorized String Operations\n",
    "\n",
    "Nearly all Python’s built-in string methods are mirrored by a Pandas vectorized string method. "
   ],
   "cell_type": "markdown",
   "metadata": {}
  },
  {
   "cell_type": "code",
   "execution_count": null,
   "metadata": {},
   "outputs": [],
   "source": [
    "data = ['peter', 'Paul', 'MARY', 'gUIDO', 'jiN']\n",
    "names = pd.Series(data)\n",
    "names"
   ]
  },
  {
   "cell_type": "code",
   "execution_count": null,
   "metadata": {},
   "outputs": [],
   "source": [
    "names.str.capitalize()"
   ]
  },
  {
   "cell_type": "code",
   "execution_count": null,
   "metadata": {},
   "outputs": [],
   "source": [
    "names.str.startswith('P')"
   ]
  },
  {
   "source": [
    "__Homework Exercise 5:__ How many movies have a budget over 1 million dollars and name starts with 'Z'"
   ],
   "cell_type": "markdown",
   "metadata": {}
  },
  {
   "source": [
    "__Exercise 5:__ Find all Comedy moivies that are produced after 2000 and with a vote average greater than 9. "
   ],
   "cell_type": "markdown",
   "metadata": {}
  },
  {
   "source": [
    "### A simple movie recommander\n",
    "\n",
    "The movie recommender example is a simplifed version from  https://www.kaggle.com/rounakbanik/movie-recommender-systems\n",
    "\n",
    "The movies are ranked using the WR weighte rating metric. "
   ],
   "cell_type": "markdown",
   "metadata": {}
  },
  {
   "source": [
    "__Step 1.__ select all romance movies that has not null vote_count and has not null vote_average. "
   ],
   "cell_type": "markdown",
   "metadata": {}
  },
  {
   "source": [
    "__Step 2.__ Create a column that contain the year of the release date. "
   ],
   "cell_type": "markdown",
   "metadata": {}
  },
  {
   "source": [
    "__Step 3.__ Calculate the mean of vote average"
   ],
   "cell_type": "markdown",
   "metadata": {}
  },
  {
   "source": [
    "__Step 4.__Calculate the top 95% of the vote_counts column. It is the the minimum votes required to be qualified. "
   ],
   "cell_type": "markdown",
   "metadata": {}
  },
  {
   "source": [
    "__Step 5.__ Create a new data frame that has movies which have top 0.95 vote_count and has only the 'title', 'year', 'vote_count', 'vote_average', 'popularity', 'genres' columns. "
   ],
   "cell_type": "markdown",
   "metadata": {}
  },
  {
   "source": [
    "__Step 6.__ Calculate the wr column "
   ],
   "cell_type": "markdown",
   "metadata": {}
  },
  {
   "source": [
    "__Step 7.__ Sort the dataframe based on the wr value and in desecending order. "
   ],
   "cell_type": "markdown",
   "metadata": {}
  },
  {
   "source": [
    "__Step 8.__ Select the top 15 movies and display the 'title', 'year','vote_count', 'popularity', 'wr' columns. "
   ],
   "cell_type": "markdown",
   "metadata": {}
  },
  {
   "source": [
    "__Step 9.__ Based on the steps above, write a function that takes an input strong of genre and return a data frame of top 10 most highly rated movies. "
   ],
   "cell_type": "markdown",
   "metadata": {}
  }
 ],
 "metadata": {
  "kernelspec": {
   "display_name": "Python 3",
   "language": "python",
   "name": "python3"
  },
  "language_info": {
   "codemirror_mode": {
    "name": "ipython",
    "version": 3
   },
   "file_extension": ".py",
   "mimetype": "text/x-python",
   "name": "python",
   "nbconvert_exporter": "python",
   "pygments_lexer": "ipython3",
   "version": "3.8.3-final"
  }
 },
 "nbformat": 4,
 "nbformat_minor": 4
}